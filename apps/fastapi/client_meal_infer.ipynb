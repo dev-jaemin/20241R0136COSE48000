{
 "cells": [
  {
   "cell_type": "code",
   "execution_count": 19,
   "id": "910c815e-c328-463a-abe2-c6ef296fd544",
   "metadata": {},
   "outputs": [],
   "source": [
    "import base64\n",
    "import requests\n",
    "import json\n",
    "\n",
    "def encode_image(image_path):\n",
    "    with open(image_path, \"rb\") as image_file:\n",
    "        return base64.b64encode(image_file.read()).decode('utf-8')\n",
    "headers = {\n",
    "    \"Content-Type\": \"application/json\",\n",
    "}"
   ]
  },
  {
   "cell_type": "code",
   "execution_count": 28,
   "id": "54ba212b-3110-4e08-8bc7-925f35429628",
   "metadata": {},
   "outputs": [
    {
     "name": "stdout",
     "output_type": "stream",
     "text": [
      "<Response [401]>\n"
     ]
    },
    {
     "data": {
      "text/plain": [
       "{'detail': 'Server Error. Please check out API KEY'}"
      ]
     },
     "execution_count": 28,
     "metadata": {},
     "output_type": "execute_result"
    }
   ],
   "source": [
    "## input data\n",
    "image_path = \"/home/sangyeob/dev/kkp/mukkaebi/apps/fastapi/images/ramen.jpg\"\n",
    "image = encode_image(image_path) \n",
    "\n",
    "user_data = {\n",
    "    'gender' : '남',\n",
    "    'age' : 25,\n",
    "    'height' : 180,\n",
    "    'weight' : 80,\n",
    "    'goal' : '다이어트'\n",
    "}\n",
    "food_category = \"LUNCH\"\n",
    "\n",
    "input_data = json.dumps(\n",
    "    {\n",
    "        'image' : image,\n",
    "        'food_category' : food_category,\n",
    "        'user_data' : user_data\n",
    "    }\n",
    ")\n",
    "\n",
    "url = \"http://124.197.159.108:8504/meal_infer\"\n",
    "res = requests.post(url, headers=headers, data=input_data)\n",
    "print(res)\n",
    "res.json()"
   ]
  },
  {
   "cell_type": "code",
   "execution_count": 27,
   "id": "4796b6d3-91d6-490d-8d2a-224889b87ae1",
   "metadata": {},
   "outputs": [
    {
     "name": "stdout",
     "output_type": "stream",
     "text": [
      "<Response [404]>\n"
     ]
    },
    {
     "data": {
      "text/plain": [
       "{'detail': \"I can't find any food in the image.\"}"
      ]
     },
     "execution_count": 27,
     "metadata": {},
     "output_type": "execute_result"
    }
   ],
   "source": [
    "## input data - there is no food\n",
    "image_path = \"/home/sangyeob/dev/kkp/mukkaebi/apps/fastapi/images/rock.jpg\"\n",
    "image = encode_image(image_path) \n",
    "\n",
    "user_data = {\n",
    "    'gender' : '남',\n",
    "    'age' : 25,\n",
    "    'height' : 180,\n",
    "    'weight' : 80,\n",
    "    'goal' : '다이어트'\n",
    "}\n",
    "food_category = \"LUNCH\"\n",
    "\n",
    "input_data = json.dumps(\n",
    "    {\n",
    "        'image' : image,\n",
    "        'food_category' : food_category,\n",
    "        'user_data' : user_data\n",
    "    }\n",
    ")\n",
    "\n",
    "url = \"http://124.197.159.108:8504/meal_infer\"\n",
    "res = requests.post(url, headers=headers, data=input_data)\n",
    "print(res)\n",
    "res.json()"
   ]
  },
  {
   "cell_type": "code",
   "execution_count": 29,
   "id": "81b94043-ad36-4452-a9ae-7168d85b61ab",
   "metadata": {},
   "outputs": [
    {
     "name": "stdout",
     "output_type": "stream",
     "text": [
      "<Response [200]>\n"
     ]
    },
    {
     "data": {
      "text/plain": [
       "{'meal_total': {'calories': 500, 'carbohydrate': 79, 'protein': 10, 'fat': 18},\n",
       " 'rating': 'E',\n",
       " 'review': {'ReviewMessage': '라면을 섭취하셨습니다. 라면은 칼로리가 높고, 탄수화물이 많은 반면 단백질과 다른 영양소는 부족합니다. 다이어트를 원하신다면 보다 균형 잡힌 식단이 필요합니다.',\n",
       "  'suggestion': '닭가슴살, 삶은 계란, 채소 샐러드, 고구마'}}"
      ]
     },
     "execution_count": 29,
     "metadata": {},
     "output_type": "execute_result"
    }
   ],
   "source": [
    "## input data\n",
    "image_path = \"/home/sangyeob/dev/kkp/mukkaebi/apps/fastapi/images/ramen.jpg\"\n",
    "image = encode_image(image_path) \n",
    "\n",
    "user_data = {\n",
    "    'gender' : '남',\n",
    "    'age' : 25,\n",
    "    'height' : 180,\n",
    "    'weight' : 80,\n",
    "    'goal' : '다이어트'\n",
    "}\n",
    "food_category = \"LUNCH\"\n",
    "\n",
    "input_data = json.dumps(\n",
    "    {\n",
    "        'image' : image,\n",
    "        'food_category' : food_category,\n",
    "        'user_data' : user_data\n",
    "    }\n",
    ")\n",
    "\n",
    "url = \"http://124.197.159.108:8504/meal_infer\"\n",
    "res = requests.post(url, headers=headers, data=input_data)\n",
    "print(res)\n",
    "res.json()"
   ]
  },
  {
   "cell_type": "code",
   "execution_count": null,
   "id": "24f9b8e7-7617-4cca-a555-e7dec9f9eeb3",
   "metadata": {},
   "outputs": [],
   "source": []
  }
 ],
 "metadata": {
  "kernelspec": {
   "display_name": "openai",
   "language": "python",
   "name": "openai"
  },
  "language_info": {
   "codemirror_mode": {
    "name": "ipython",
    "version": 3
   },
   "file_extension": ".py",
   "mimetype": "text/x-python",
   "name": "python",
   "nbconvert_exporter": "python",
   "pygments_lexer": "ipython3",
   "version": "3.9.19"
  }
 },
 "nbformat": 4,
 "nbformat_minor": 5
}
