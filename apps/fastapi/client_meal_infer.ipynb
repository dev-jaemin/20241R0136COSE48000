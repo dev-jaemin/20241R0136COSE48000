{
 "cells": [
  {
   "cell_type": "code",
   "execution_count": 4,
   "id": "910c815e-c328-463a-abe2-c6ef296fd544",
   "metadata": {},
   "outputs": [],
   "source": [
    "import base64\n",
    "import requests\n",
    "import json\n",
    "\n",
    "def encode_image(image_path):\n",
    "    with open(image_path, \"rb\") as image_file:\n",
    "        return base64.b64encode(image_file.read()).decode('utf-8')\n",
    "headers = {\n",
    "    \"Content-Type\": \"application/json\",\n",
    "}"
   ]
  },
  {
   "cell_type": "code",
   "execution_count": 7,
   "id": "54ba212b-3110-4e08-8bc7-925f35429628",
   "metadata": {},
   "outputs": [],
   "source": [
    "## input data\n",
    "image_path = \"/home/sangyeob/dev/kkp/mukkaebi/apps/fastapi/images/ramen.jpg\"\n",
    "image = encode_image(image_path) \n",
    "\n",
    "user_data = {\n",
    "    'gender' : '남',\n",
    "    'age' : 25,\n",
    "    'height' : 180,\n",
    "    'weight' : 80,\n",
    "    'goal' : '다이어트'\n",
    "}\n",
    "food_category = \"LUNCH\"\n",
    "\n",
    "input_data = json.dumps(\n",
    "    {\n",
    "        'image' : image,\n",
    "        'food_category' : food_category,\n",
    "        'user_data' : user_data\n",
    "    }\n",
    ")"
   ]
  },
  {
   "cell_type": "code",
   "execution_count": 8,
   "id": "4359e3cf-cbaf-41c4-805d-d03472a5ec56",
   "metadata": {},
   "outputs": [
    {
     "data": {
      "text/plain": [
       "{'meal_detail': [{'라면': {'calories': 500,\n",
       "    'carbohydrate': 65,\n",
       "    'protein': 10,\n",
       "    'fat': 20}},\n",
       "  {'계란': {'calories': 70, 'carbohydrate': 0.6, 'protein': 6, 'fat': 4.8}},\n",
       "  {'파': {'calories': 10, 'carbohydrate': 2.4, 'protein': 0.5, 'fat': 0.1}},\n",
       "  {'김': {'calories': 5, 'carbohydrate': 1, 'protein': 1, 'fat': 0.1}},\n",
       "  {'물': {'calories': 0, 'carbohydrate': 0, 'protein': 0, 'fat': 0}}],\n",
       " 'meal_total': {'calories': 585,\n",
       "  'carbohydrate': 69,\n",
       "  'protein': 17.5,\n",
       "  'fat': 25},\n",
       " 'rating': 'D',\n",
       " 'review': 'ReviewMessage:이 식사는 탄수화물이 높고 단백질은 충분히 포함되어 있지 않으며 지방 함량이 다소 높은 편입니다. 다이어트 목표를 가진 25세 남성이신 경우, 영양소의 균형을 개선하고 총열량을 줄이는 것이 중요합니다. 건강한 다이어트를 위해서는 채소와 단백질을 더 많이 포함하고 가공식품의 섭취를 줄이는 것을 권장합니다.'}"
      ]
     },
     "execution_count": 8,
     "metadata": {},
     "output_type": "execute_result"
    }
   ],
   "source": [
    "url = \"http://124.197.159.108:8504/meal_infer\"\n",
    "res = requests.post(url, headers=headers, data=input_data)\n",
    "res.json()"
   ]
  },
  {
   "cell_type": "code",
   "execution_count": null,
   "id": "4796b6d3-91d6-490d-8d2a-224889b87ae1",
   "metadata": {},
   "outputs": [],
   "source": []
  }
 ],
 "metadata": {
  "kernelspec": {
   "display_name": "openai",
   "language": "python",
   "name": "openai"
  },
  "language_info": {
   "codemirror_mode": {
    "name": "ipython",
    "version": 3
   },
   "file_extension": ".py",
   "mimetype": "text/x-python",
   "name": "python",
   "nbconvert_exporter": "python",
   "pygments_lexer": "ipython3",
   "version": "3.9.19"
  }
 },
 "nbformat": 4,
 "nbformat_minor": 5
}
