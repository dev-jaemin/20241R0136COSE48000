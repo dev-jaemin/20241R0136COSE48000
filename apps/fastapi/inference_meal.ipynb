{
 "cells": [
  {
   "cell_type": "code",
   "execution_count": 12,
   "id": "87599459-2351-4437-a838-d42a843f894d",
   "metadata": {},
   "outputs": [],
   "source": [
    "import base64, os\n",
    "import requests\n",
    "import json\n",
    "\n",
    "api_key = os.getenv('API_KEY')\n",
    "\n",
    "# Path to your image\n",
    "image_path = \"/home/sangyeob/dev/kkp/mukkaebi/apps/fastapi/images/pizza.jpg\"\n",
    "\n",
    "def encode_image(image_path):\n",
    "    with open(image_path, \"rb\") as image_file:\n",
    "        return base64.b64encode(image_file.read()).decode('utf-8')\n",
    "# Getting the base64 string\n",
    "base64_image = encode_image(image_path)\n",
    "\n",
    "headers = {\n",
    "    \"Content-Type\": \"application/json\",\n",
    "    \"Authorization\": f\"Bearer {api_key}\"\n",
    "}\n",
    "\n",
    "input_data = {\n",
    "  'image' : base64_image,\n",
    "  'food_category' : \"LUNCH\",\n",
    "  'user_data' : {\n",
    "    'gender' : '남',\n",
    "    'age' : 25,\n",
    "    'height' : 180,\n",
    "    'weight' : 80,\n",
    "    'goal' : '다이어트'\n",
    "  }\n",
    "}\n",
    "\n",
    "food_category = json.dumps(input_data['food_category'], ensure_ascii=False)\n",
    "user_data = json.dumps(input_data['user_data'], ensure_ascii=False)"
   ]
  },
  {
   "cell_type": "code",
   "execution_count": 20,
   "id": "e11e4e63-c087-4404-b418-83ee96c07c89",
   "metadata": {},
   "outputs": [],
   "source": [
    "text = \"This meal is \"+food_category+\". Please perform the following 3 tasks based on the image. \\\n",
    "Task 1 : Identifying and Quantifying Nutritional Values of Foods in the Image. Analyze up to 5 foods \\\n",
    "Task 2 : Summarizing Nutritional Values of All Foods Consumed. \\\n",
    "Task 3 : Evaluate the diet on a scale of A to E based on the balance of nutrients. \\\n",
    "Task 4 : Make a short review depeding on my data : \"+user_data+\"\\\n",
    "Please answer food in Korean. Answer only in JSON format without explanation. And answer without spaces or line breaks inside the JSON. Use single quotes instead of double quotes inside the JSON and ReviewMessage. \\\n",
    "This is an example. {'task1':[{'떡볶이':{'calories':380,'carbohydrate':86,'protein':10,'fat':4.4}},{'김치':{'calories':34,'carbohydrate':7.1,'protein':2.0,'fat':0.6}},{'콩나물무침':{'calories':45,'carbohydrate':8.6,'protein':3.6,'fat':0.2}},{'부추전':{'calories':174,'carbohydrate':14.2,'protein':5.6,'fat':10.8}},{'잡곡밥':{'calories':210,'carbohydrate':44,'protein':5,'fat':1.5}},{'된장국':{'calories':40,'carbohydrate':5.9,'protein':3.9,'fat':0.5}}],'task2':{'total':{'calories':883,'carbohydrate':165.8,'protein':30.1,'fat':18}},'task3':'E','task4':'ReviewMessage'}\\\n",
    "\"\n",
    "\n",
    "payload = {\n",
    "  \"model\": \"gpt-4-vision-preview\",\n",
    "  \"messages\": [\n",
    "    {\n",
    "      \"role\": \"user\",\n",
    "      \"content\": [\n",
    "        {\n",
    "          \"type\": \"text\",\n",
    "          \"text\": text\n",
    "        },\n",
    "        {\n",
    "          \"type\": \"image_url\",\n",
    "          \"image_url\": {\n",
    "            \"url\": f\"data:image/jpeg;base64,{base64_image}\"\n",
    "          }\n",
    "        }\n",
    "      ]\n",
    "    }\n",
    "  ],\n",
    "  \"max_tokens\": 1000\n",
    "}\n",
    "\n",
    "response = requests.post(\"https://api.openai.com/v1/chat/completions\", headers=headers, json=payload)"
   ]
  },
  {
   "cell_type": "code",
   "execution_count": 23,
   "id": "63ff5da0-a14e-4997-8d50-c193c8e5213e",
   "metadata": {},
   "outputs": [
    {
     "data": {
      "text/plain": [
       "{'task1': [{'피자': {'calories': 285,\n",
       "    'carbohydrate': 36,\n",
       "    'protein': 12,\n",
       "    'fat': 10}},\n",
       "  {'불고기피자': {'calories': 300, 'carbohydrate': 30, 'protein': 16, 'fat': 14}},\n",
       "  {'페퍼로니피자': {'calories': 310, 'carbohydrate': 34, 'protein': 13, 'fat': 15}},\n",
       "  {'치즈': {'calories': 220, 'carbohydrate': 1, 'protein': 14, 'fat': 17}},\n",
       "  {'라면': {'calories': 380, 'carbohydrate': 54, 'protein': 9, 'fat': 14}}],\n",
       " 'task2': {'total': {'calories': 1495,\n",
       "   'carbohydrate': 155,\n",
       "   'protein': 64,\n",
       "   'fat': 70}},\n",
       " 'task3': 'C',\n",
       " 'task4': {'ReviewMessage': '25세 남성이시고 목표가 다이어트이신 만큼 과도한 칼로리와 탄수화물, 지방의 섭취는 체중 감량에 도움이 되지 않습니다. 이 식사는 다이어트 목표에 부합하려면 열량을 줄이고, 단백질 섭취를 늘리며, 신선한 채소와 과일을 포함시키는 것이 좋겠습니다. 균형 잡힌 영양소 섭취와 함께 규칙적인 운동도 병행하시길 권장드립니다.'}}"
      ]
     },
     "execution_count": 23,
     "metadata": {},
     "output_type": "execute_result"
    }
   ],
   "source": [
    "content = response.json()[\"choices\"][0]['message']['content']\n",
    "content = content.replace(\"\\'\", \"\\\"\")\n",
    "content\n",
    "x = json.loads(content)\n",
    "x"
   ]
  },
  {
   "cell_type": "markdown",
   "id": "c41f22e5",
   "metadata": {},
   "source": []
  },
  {
   "cell_type": "code",
   "execution_count": null,
   "id": "fec9a904-52b3-481b-9962-f58886bf79d9",
   "metadata": {},
   "outputs": [],
   "source": []
  }
 ],
 "metadata": {
  "kernelspec": {
   "display_name": "openai",
   "language": "python",
   "name": "openai"
  },
  "language_info": {
   "codemirror_mode": {
    "name": "ipython",
    "version": 3
   },
   "file_extension": ".py",
   "mimetype": "text/x-python",
   "name": "python",
   "nbconvert_exporter": "python",
   "pygments_lexer": "ipython3",
   "version": "3.9.19"
  }
 },
 "nbformat": 4,
 "nbformat_minor": 5
}
