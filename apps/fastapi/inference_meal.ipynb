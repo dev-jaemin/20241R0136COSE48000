{
 "cells": [
  {
   "cell_type": "code",
   "execution_count": 24,
   "id": "87599459-2351-4437-a838-d42a843f894d",
   "metadata": {},
   "outputs": [],
   "source": [
    "import base64, os\n",
    "import requests\n",
    "import json\n",
    "\n",
    "api_key = os.getenv('API_KEY')\n",
    "\n",
    "# Path to your image\n",
    "image_path = \"/home/sangyeob/dev/kkp/mukkaebi/apps/fastapi/images/pizza.jpg\"\n",
    "\n",
    "def encode_image(image_path):\n",
    "    with open(image_path, \"rb\") as image_file:\n",
    "        return base64.b64encode(image_file.read()).decode('utf-8')\n",
    "# Getting the base64 string\n",
    "base64_image = encode_image(image_path)\n",
    "\n",
    "headers = {\n",
    "    \"Content-Type\": \"application/json\",\n",
    "    \"Authorization\": f\"Bearer {api_key}\"\n",
    "}\n",
    "\n",
    "input_data = {\n",
    "  'image' : base64_image,\n",
    "  'food_category' : \"LUNCH\",\n",
    "  'user_data' : {\n",
    "    'gender' : '남',\n",
    "    'age' : 25,\n",
    "    'height' : 180,\n",
    "    'weight' : 80,\n",
    "    'goal' : '다이어트'\n",
    "  }\n",
    "}\n",
    "\n",
    "food_category = json.dumps(input_data['food_category'], ensure_ascii=False)\n",
    "user_data = json.dumps(input_data['user_data'], ensure_ascii=False)"
   ]
  },
  {
   "cell_type": "code",
   "execution_count": 25,
   "id": "e11e4e63-c087-4404-b418-83ee96c07c89",
   "metadata": {},
   "outputs": [],
   "source": [
    "text = \"Please perform the following tasks based on the image. \\\n",
    "Task 1 : Please check if there are any foods in the image. Please answer either yes or no. If there is no food, do not perform following task. \\\n",
    "Task 2 : Identifying and Quantifying Nutritional Values of Foods in the Image.  Summarizing Nutritional Values of All Foods Consumed.  \\\n",
    "Task 3 : Evaluate the foods on a scale of A to E based on the balance of nutrients. \\\n",
    "Task 4 : Make a short review depeding on my data : \"+user_data+\" and suggest other foods. \\\n",
    "Please answer food in Korean. Answer only in JSON format without explanation. And answer without spaces or line breaks inside the JSON. Use single quotes instead of double quotes inside the JSON and ReviewMessage. \\\n",
    "This is an example if There are any foods in the image - {'task1': 'yes','task2':{'total':{'calories':883,'carbohydrate':165.8,'protein':30.1,'fat':18}},'task3':'E','task4': {'ReviewMessage': review_message, 'suggestion': food suggestions}} \\\n",
    "This is an another example if there are no foods in the image - {'task1': 'no'}\"\n",
    "\n",
    "payload = {\n",
    "  \"model\": \"gpt-4o\",\n",
    "  \"messages\": [\n",
    "    {\n",
    "      \"role\": \"user\",\n",
    "      \"content\": [\n",
    "        {\n",
    "          \"type\": \"text\",\n",
    "          \"text\": text\n",
    "        },\n",
    "        {\n",
    "          \"type\": \"image_url\",\n",
    "          \"image_url\": {\n",
    "            \"url\": f\"data:image/jpeg;base64,{base64_image}\"\n",
    "          }\n",
    "        }\n",
    "      ]\n",
    "    }\n",
    "  ],\n",
    "  \"max_tokens\": 1000\n",
    "}\n",
    "\n",
    "response = requests.post(\"https://api.openai.com/v1/chat/completions\", headers=headers, json=payload)"
   ]
  },
  {
   "cell_type": "code",
   "execution_count": 26,
   "id": "abf9477d-4c5b-4e75-a5d7-fb5f525196e4",
   "metadata": {},
   "outputs": [
    {
     "data": {
      "text/plain": [
       "\"{'task1': 'yes','task2':{'total':{'calories':1750,'carbohydrate':180,'protein':60,'fat':85}},'task3':'E','task4': {'ReviewMessage':'다이어트를 목표로 하는 25세 남성으로서, 이 식사의 영양소 균형은 매우 좋지 않습니다. 피자와 스파게티는 칼로리와 지방이 높고, 단백질이 적습니다. 이러한 식단은 다이어트에 좋지 않습니다.','suggestion':'채소 샐러드, 닭 가슴살, 고구마, 현미밥, 생선'}}\""
      ]
     },
     "execution_count": 26,
     "metadata": {},
     "output_type": "execute_result"
    }
   ],
   "source": [
    "response.json()[\"choices\"][0]['message']['content']"
   ]
  },
  {
   "cell_type": "code",
   "execution_count": 18,
   "id": "63ff5da0-a14e-4997-8d50-c193c8e5213e",
   "metadata": {},
   "outputs": [
    {
     "data": {
      "text/plain": [
       "{'task1': 'yes',\n",
       " 'task2': {'total': {'calories': 2000,\n",
       "   'carbohydrate': 240,\n",
       "   'protein': 80,\n",
       "   'fat': 100}},\n",
       " 'task3': 'E',\n",
       " 'task4': {'ReviewMessage': '다이어트 목표를 가진 25세 남성에게 이 피자와 면은 너무 칼로리가 높고 지방 함량이 많습니다. 영양 균형도 개선이 필요합니다.',\n",
       "  'suggestion': '닭가슴살, 샐러드, 현미밥'}}"
      ]
     },
     "execution_count": 18,
     "metadata": {},
     "output_type": "execute_result"
    }
   ],
   "source": [
    "content = response.json()[\"choices\"][0]['message']['content']\n",
    "content = content.replace(\"\\'\", \"\\\"\")\n",
    "content\n",
    "x = json.loads(content)\n",
    "x"
   ]
  },
  {
   "cell_type": "code",
   "execution_count": 27,
   "id": "719857bf-eda2-4d54-ace1-88604cb744dd",
   "metadata": {},
   "outputs": [],
   "source": [
    "import base64, os\n",
    "import requests\n",
    "import json\n",
    "\n",
    "api_key = os.getenv('API_KEY')\n",
    "\n",
    "# Path to your image\n",
    "image_path = \"/home/sangyeob/dev/kkp/mukkaebi/apps/fastapi/images/rock.jpg\"\n",
    "\n",
    "def encode_image(image_path):\n",
    "    with open(image_path, \"rb\") as image_file:\n",
    "        return base64.b64encode(image_file.read()).decode('utf-8')\n",
    "# Getting the base64 string\n",
    "base64_image = encode_image(image_path)\n",
    "\n",
    "headers = {\n",
    "    \"Content-Type\": \"application/json\",\n",
    "    \"Authorization\": f\"Bearer {api_key}\"\n",
    "}\n",
    "\n",
    "input_data = {\n",
    "  'image' : base64_image,\n",
    "  'food_category' : \"LUNCH\",\n",
    "  'user_data' : {\n",
    "    'gender' : '남',\n",
    "    'age' : 25,\n",
    "    'height' : 180,\n",
    "    'weight' : 80,\n",
    "    'goal' : '다이어트'\n",
    "  }\n",
    "}\n",
    "\n",
    "food_category = json.dumps(input_data['food_category'], ensure_ascii=False)\n",
    "user_data = json.dumps(input_data['user_data'], ensure_ascii=False)"
   ]
  },
  {
   "cell_type": "code",
   "execution_count": 28,
   "id": "06497648-dd4e-4090-ae04-c6b91aca05b8",
   "metadata": {},
   "outputs": [],
   "source": [
    "text = \"Please perform the following tasks based on the image. \\\n",
    "Task 1 : Please check if there are any foods in the image. Please answer either yes or no. If there is no food, do not perform following task. \\\n",
    "Task 2 : Identifying and Quantifying Nutritional Values of Foods in the Image.  Summarizing Nutritional Values of All Foods Consumed.  \\\n",
    "Task 3 : Evaluate the foods on a scale of A to E based on the balance of nutrients. \\\n",
    "Task 4 : Make a short review depeding on my data : \"+user_data+\" and suggest other foods. \\\n",
    "Please answer food in Korean. Answer only in JSON format without explanation. And answer without spaces or line breaks inside the JSON. Use single quotes instead of double quotes inside the JSON and ReviewMessage. \\\n",
    "This is an example if There are any foods in the image - {'task1': 'yes','task2':{'total':{'calories':883,'carbohydrate':165.8,'protein':30.1,'fat':18}},'task3':'E','task4': {'ReviewMessage': review_message, 'suggestion': food suggestions}} \\\n",
    "This is an another example if there are no foods in the image - {'task1': 'no'}\"\n",
    "\n",
    "payload = {\n",
    "  \"model\": \"gpt-4-vision-preview\",\n",
    "  \"messages\": [\n",
    "    {\n",
    "      \"role\": \"user\",\n",
    "      \"content\": [\n",
    "        {\n",
    "          \"type\": \"text\",\n",
    "          \"text\": text\n",
    "        },\n",
    "        {\n",
    "          \"type\": \"image_url\",\n",
    "          \"image_url\": {\n",
    "            \"url\": f\"data:image/jpeg;base64,{base64_image}\"\n",
    "          }\n",
    "        }\n",
    "      ]\n",
    "    }\n",
    "  ],\n",
    "  \"max_tokens\": 1000\n",
    "}\n",
    "\n",
    "response = requests.post(\"https://api.openai.com/v1/chat/completions\", headers=headers, json=payload)"
   ]
  },
  {
   "cell_type": "code",
   "execution_count": 29,
   "id": "e1f15a2a-1ca9-4678-97f6-4193021a43e4",
   "metadata": {},
   "outputs": [
    {
     "data": {
      "text/plain": [
       "\"{'task1':'no'}\""
      ]
     },
     "execution_count": 29,
     "metadata": {},
     "output_type": "execute_result"
    }
   ],
   "source": [
    "response.json()[\"choices\"][0]['message']['content']"
   ]
  },
  {
   "cell_type": "code",
   "execution_count": null,
   "id": "fec9a904-52b3-481b-9962-f58886bf79d9",
   "metadata": {},
   "outputs": [],
   "source": []
  }
 ],
 "metadata": {
  "kernelspec": {
   "display_name": "openai",
   "language": "python",
   "name": "openai"
  },
  "language_info": {
   "codemirror_mode": {
    "name": "ipython",
    "version": 3
   },
   "file_extension": ".py",
   "mimetype": "text/x-python",
   "name": "python",
   "nbconvert_exporter": "python",
   "pygments_lexer": "ipython3",
   "version": "3.9.19"
  }
 },
 "nbformat": 4,
 "nbformat_minor": 5
}
