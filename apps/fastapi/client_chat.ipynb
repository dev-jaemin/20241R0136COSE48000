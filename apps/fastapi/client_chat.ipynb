{
 "cells": [
  {
   "cell_type": "code",
   "execution_count": 3,
   "id": "910c815e-c328-463a-abe2-c6ef296fd544",
   "metadata": {},
   "outputs": [],
   "source": [
    "import base64\n",
    "import requests\n",
    "import json\n",
    "\n",
    "def encode_image(image_path):\n",
    "    with open(image_path, \"rb\") as image_file:\n",
    "        return base64.b64encode(image_file.read()).decode('utf-8')\n",
    "headers = {\n",
    "    \"Content-Type\": \"application/json\",\n",
    "}"
   ]
  },
  {
   "cell_type": "code",
   "execution_count": 20,
   "id": "54ba212b-3110-4e08-8bc7-925f35429628",
   "metadata": {},
   "outputs": [],
   "source": [
    "## input data\n",
    "chat = '저녁 뭐먹는게 좋을까?'\n",
    "user_data = {\n",
    "    'gender' : '남',\n",
    "    'age' : 25,\n",
    "    'height' : 180,\n",
    "    'weight' : 80,\n",
    "    'goal' : '다이어트'\n",
    "}\n",
    "day_nutrient = {\n",
    "    'day_calories' : 600,\n",
    "    'day_carbs' : 60,\n",
    "    'day_protein' : 25,\n",
    "    'day_fat' : 30 \n",
    "}\n",
    "input_data = json.dumps(\n",
    "    {\n",
    "      'chat' : chat,\n",
    "      'user_data' : user_data,\n",
    "      'day_nutrient' : day_nutrient\n",
    "    }\n",
    ")"
   ]
  },
  {
   "cell_type": "code",
   "execution_count": 22,
   "id": "4359e3cf-cbaf-41c4-805d-d03472a5ec56",
   "metadata": {},
   "outputs": [
    {
     "data": {
      "text/plain": [
       "{'answer': '오늘 섭취한 영양분에 따라 다르겠지만, 다이어트 목표를 고려한다면 저녁에는 가벼운 단백질 위주의 식사를 추천해요. 닭가슴살 샐러드나 생선구이 같은 메뉴가 좋을 것 같습니다.'}"
      ]
     },
     "execution_count": 22,
     "metadata": {},
     "output_type": "execute_result"
    }
   ],
   "source": [
    "url = \"http://124.197.159.108:8504/chat_infer\"\n",
    "res = requests.post(url, headers=headers, data=input_data)\n",
    "res.json()"
   ]
  }
 ],
 "metadata": {
  "kernelspec": {
   "display_name": "openai",
   "language": "python",
   "name": "openai"
  },
  "language_info": {
   "codemirror_mode": {
    "name": "ipython",
    "version": 3
   },
   "file_extension": ".py",
   "mimetype": "text/x-python",
   "name": "python",
   "nbconvert_exporter": "python",
   "pygments_lexer": "ipython3",
   "version": "3.9.19"
  }
 },
 "nbformat": 4,
 "nbformat_minor": 5
}
