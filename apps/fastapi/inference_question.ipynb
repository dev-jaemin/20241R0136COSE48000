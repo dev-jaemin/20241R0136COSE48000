{
 "cells": [
  {
   "cell_type": "code",
   "execution_count": 10,
   "id": "87599459-2351-4437-a838-d42a843f894d",
   "metadata": {},
   "outputs": [],
   "source": [
    "import base64\n",
    "import requests\n",
    "import json\n",
    "from datetime import datetime\n",
    "from datetime import date\n",
    "\n",
    "api_key = \"\"\n",
    "\n",
    "headers = {\n",
    "    \"Content-Type\": \"application/json\",\n",
    "    \"Authorization\": f\"Bearer {api_key}\"\n",
    "}\n",
    "\n",
    "input_data = {\n",
    "  'chat' : '저녁 뭐먹는게 좋을까?',\n",
    "  'user_data' : {\n",
    "    'gender' : '남',\n",
    "    'age' : 25,\n",
    "    'height' : 180,\n",
    "    'weight' : 80,\n",
    "    'goal' : '다이어트'\n",
    "  },\n",
    "  'day_nutrient' : {\n",
    "    'nutrients' : {\n",
    "      'day_calories' : 600,\n",
    "      'day_carbs' : 60,\n",
    "      'day_protein' : 25,\n",
    "      'day-fat' : 30 \n",
    "    }\n",
    "  }\n",
    "}\n",
    "\n",
    "chat = json.dumps(input_data['chat'], ensure_ascii=False)\n",
    "user_data = json.dumps(input_data['user_data'], ensure_ascii=False)\n",
    "day_nutrient = json.dumps(input_data['day_nutrient'], ensure_ascii=False)"
   ]
  },
  {
   "cell_type": "code",
   "execution_count": 11,
   "id": "e11e4e63-c087-4404-b418-83ee96c07c89",
   "metadata": {},
   "outputs": [],
   "source": [
    "text = f'Answer my question {chat} depeding on my user_data : {user_data} and my day_nutrient I took today : {day_nutrient}'\n",
    "\n",
    "payload = {\n",
    "  \"model\": \"gpt-4-vision-preview\",\n",
    "  \"messages\": [\n",
    "    {\n",
    "      \"role\": \"user\",\n",
    "      \"content\": [\n",
    "        {\n",
    "          \"type\": \"text\",\n",
    "          \"text\": text\n",
    "        }\n",
    "      ]\n",
    "    }\n",
    "  ],\n",
    "  \"max_tokens\": 500\n",
    "}\n",
    "\n",
    "response = requests.post(\"https://api.openai.com/v1/chat/completions\", headers=headers, json=payload)"
   ]
  },
  {
   "cell_type": "code",
   "execution_count": 12,
   "id": "63ff5da0-a14e-4997-8d50-c193c8e5213e",
   "metadata": {},
   "outputs": [
    {
     "data": {
      "text/plain": [
       "'당신의 목표가 다이어트라면, 저녁 식사는 저칼로리이면서 단백질이 높은 식사를 추천합니다. 오늘 섭취한 영양소를 살펴보았을 때, 당신은 이미 하루 칼로리 섭취량의 절반을 섭취하였고 탄수화물, 단백질, 지방을 모두 적당히 섭취하셨습니다. 저녁으로는 가벼운 닭가슴살 샐러드나 구운 생선과 함께 야채를 먹는 것이 좋을 것 같습니다. 이렇게 하면 낮은 칼로리를 유지하면서도 필요한 단백질을 추가로 섭취할 수 있습니다.'"
      ]
     },
     "execution_count": 12,
     "metadata": {},
     "output_type": "execute_result"
    }
   ],
   "source": [
    "content = response.json()[\"choices\"][0]['message']['content']\n",
    "content\n",
    "# content = content.replace(\"\\'\", \"\\\"\")"
   ]
  },
  {
   "cell_type": "code",
   "execution_count": null,
   "id": "d304beb2-3fbb-497b-aaa0-077fd3f18765",
   "metadata": {},
   "outputs": [],
   "source": []
  }
 ],
 "metadata": {
  "kernelspec": {
   "display_name": "openai",
   "language": "python",
   "name": "openai"
  },
  "language_info": {
   "codemirror_mode": {
    "name": "ipython",
    "version": 3
   },
   "file_extension": ".py",
   "mimetype": "text/x-python",
   "name": "python",
   "nbconvert_exporter": "python",
   "pygments_lexer": "ipython3",
   "version": "3.9.19"
  }
 },
 "nbformat": 4,
 "nbformat_minor": 5
}
